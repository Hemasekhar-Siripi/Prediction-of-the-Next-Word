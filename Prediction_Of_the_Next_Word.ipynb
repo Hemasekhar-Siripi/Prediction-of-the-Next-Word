{
 "cells": [
  {
   "cell_type": "markdown",
   "metadata": {
    "id": "QuwYkvIgIsA0"
   },
   "source": [
    "# **Prediction Of The Next Word**"
   ]
  },
  {
   "cell_type": "markdown",
   "metadata": {
    "id": "hvz_uqpXIxRZ"
   },
   "source": [
    "Predicting the next word in a sentence is a common Natural Language Processing (NLP) task that can be approached as a machine learning project. Here's a general outline of how you can approach building a next word prediction model using machine learning\n",
    "\n",
    "**Description:-** A distinctive aspect of working on data science projects is that you get the freedom to create predictive type models. You must have noticed this while using Google Docs, WhatsApp, or evven the Google search bar, all of these use the technique of predicting the next word by suggesting a new word after each new word you type."
   ]
  },
  {
   "cell_type": "markdown",
   "metadata": {
    "id": "-wIV8qaoKE61"
   },
   "source": [
    "### **Importing the Libraries**"
   ]
  },
  {
   "cell_type": "code",
   "execution_count": 1,
   "metadata": {
    "id": "DTV6HSQnvS5e"
   },
   "outputs": [],
   "source": [
    "import tensorflow as tf\n",
    "from tensorflow.keras.preprocessing.text import Tokenizer\n",
    "from tensorflow.keras.layers import Embedding, LSTM, Dense\n",
    "from tensorflow.keras.models import Sequential\n",
    "from tensorflow.keras.utils import to_categorical\n",
    "from tensorflow.keras.optimizers import Adam\n",
    "import pickle\n",
    "import numpy as np\n",
    "import os"
   ]
  },
  {
   "cell_type": "markdown",
   "metadata": {
    "id": "tEdVTphPoBNJ"
   },
   "source": [
    "### **Open and Pre-Process the data**"
   ]
  },
  {
   "cell_type": "code",
   "execution_count": 3,
   "metadata": {
    "colab": {
     "base_uri": "https://localhost:8080/",
     "height": 87
    },
    "id": "_hWyKfV2lKMQ",
    "outputId": "beb0dd40-fb4c-450c-ecb7-cdaf82751812"
   },
   "outputs": [
    {
     "data": {
      "application/vnd.google.colaboratory.intrinsic+json": {
       "type": "string"
      },
      "text/plain": [
       "'The Project Gutenberg eBook of Pride and prejudice, by Jane Austen This eBook is for the use of anyone anywhere in the United States and most other parts of the world at no cost and with almost no restrictions whatsoever. You may copy it, give it away or re-use it under the terms of the Project Gutenberg License included with this eBook or online at www.gutenberg.org. If you are not located in the United States, you will have to check the laws of the country where you are located before using th'"
      ]
     },
     "execution_count": 3,
     "metadata": {},
     "output_type": "execute_result"
    }
   ],
   "source": [
    "file = open(\"next word prediction.txt\", \"r\", encoding = \"utf8\")\n",
    "\n",
    "# store file in list\n",
    "lines = []\n",
    "for i in file:\n",
    "    lines.append(i)\n",
    "\n",
    "# Convert list to string\n",
    "data = \"\"\n",
    "for i in lines:\n",
    "  data = ' '. join(lines) \n",
    "\n",
    "#replace unnecessary stuff with space\n",
    "data = data.replace('\\n', '').replace('\\r', '').replace('\\ufeff', '').replace('“','').replace('”','')  #new line, carriage return, unicode character --> replace by space\n",
    "\n",
    "#remove unnecessary spaces \n",
    "data = data.split()\n",
    "data = ' '.join(data)\n",
    "data[:500]"
   ]
  },
  {
   "cell_type": "code",
   "execution_count": 4,
   "metadata": {
    "colab": {
     "base_uri": "https://localhost:8080/"
    },
    "id": "Tuk1O8XDlKeO",
    "outputId": "6934cd20-4e38-457d-d2c9-fb52392af6b4"
   },
   "outputs": [
    {
     "data": {
      "text/plain": [
       "733851"
      ]
     },
     "execution_count": 4,
     "metadata": {},
     "output_type": "execute_result"
    }
   ],
   "source": [
    "len(data)"
   ]
  },
  {
   "cell_type": "markdown",
   "metadata": {
    "id": "F5SRkzLKoLYs"
   },
   "source": [
    "## **Apply tokenization and some other changes**"
   ]
  },
  {
   "cell_type": "code",
   "execution_count": 5,
   "metadata": {
    "colab": {
     "base_uri": "https://localhost:8080/"
    },
    "id": "zkJ7Qj21lKmY",
    "outputId": "9b105423-8035-4caa-b961-f4eb709a4631"
   },
   "outputs": [
    {
     "data": {
      "text/plain": [
       "[1, 182, 164, 1001, 3, 299, 4, 946, 30, 72, 710, 41, 1001, 23, 21]"
      ]
     },
     "execution_count": 5,
     "metadata": {},
     "output_type": "execute_result"
    }
   ],
   "source": [
    "tokenizer = Tokenizer()\n",
    "tokenizer.fit_on_texts([data])\n",
    "\n",
    "# saving the tokenizer for predict function\n",
    "pickle.dump(tokenizer, open('token.pkl', 'wb'))\n",
    "\n",
    "sequence_data = tokenizer.texts_to_sequences([data])[0]\n",
    "sequence_data[:15]"
   ]
  },
  {
   "cell_type": "code",
   "execution_count": 6,
   "metadata": {
    "colab": {
     "base_uri": "https://localhost:8080/"
    },
    "id": "3J4huQVFlKqC",
    "outputId": "382509bc-670e-43bd-cd14-44a248664a2b"
   },
   "outputs": [
    {
     "data": {
      "text/plain": [
       "131237"
      ]
     },
     "execution_count": 6,
     "metadata": {},
     "output_type": "execute_result"
    }
   ],
   "source": [
    "len(sequence_data)"
   ]
  },
  {
   "cell_type": "code",
   "execution_count": 7,
   "metadata": {
    "colab": {
     "base_uri": "https://localhost:8080/"
    },
    "id": "Xl6W0i2dliaa",
    "outputId": "786235de-1631-4d63-82ff-505fa67ea378"
   },
   "outputs": [
    {
     "name": "stdout",
     "output_type": "stream",
     "text": [
      "7250\n"
     ]
    }
   ],
   "source": [
    "vocab_size = len(tokenizer.word_index) + 1\n",
    "print(vocab_size)"
   ]
  },
  {
   "cell_type": "code",
   "execution_count": 8,
   "metadata": {
    "colab": {
     "base_uri": "https://localhost:8080/"
    },
    "id": "qGkJzi5zlidW",
    "outputId": "c72941ce-fc85-4f1f-c5cf-28a72b827352"
   },
   "outputs": [
    {
     "name": "stdout",
     "output_type": "stream",
     "text": [
      "The Length of sequences are:  131234\n"
     ]
    },
    {
     "data": {
      "text/plain": [
       "array([[   1,  182,  164, 1001],\n",
       "       [ 182,  164, 1001,    3],\n",
       "       [ 164, 1001,    3,  299],\n",
       "       [1001,    3,  299,    4],\n",
       "       [   3,  299,    4,  946],\n",
       "       [ 299,    4,  946,   30],\n",
       "       [   4,  946,   30,   72],\n",
       "       [ 946,   30,   72,  710],\n",
       "       [  30,   72,  710,   41],\n",
       "       [  72,  710,   41, 1001]])"
      ]
     },
     "execution_count": 8,
     "metadata": {},
     "output_type": "execute_result"
    }
   ],
   "source": [
    "sequences = []\n",
    "\n",
    "for i in range(3, len(sequence_data)):\n",
    "    words = sequence_data[i-3:i+1]\n",
    "    sequences.append(words)\n",
    "    \n",
    "print(\"The Length of sequences are: \", len(sequences))\n",
    "sequences = np.array(sequences)\n",
    "sequences[:10]"
   ]
  },
  {
   "cell_type": "code",
   "execution_count": 9,
   "metadata": {
    "id": "sbVHL4Uflifj"
   },
   "outputs": [],
   "source": [
    "X = []\n",
    "y = []\n",
    "\n",
    "for i in sequences:\n",
    "    X.append(i[0:3])\n",
    "    y.append(i[3])\n",
    "    \n",
    "X = np.array(X)\n",
    "y = np.array(y)"
   ]
  },
  {
   "cell_type": "code",
   "execution_count": 10,
   "metadata": {
    "colab": {
     "base_uri": "https://localhost:8080/"
    },
    "id": "zip8P1dLlii6",
    "outputId": "e212593b-9d7d-41d7-db9c-210a0b69bc24"
   },
   "outputs": [
    {
     "name": "stdout",
     "output_type": "stream",
     "text": [
      "Data:  [[   1  182  164]\n",
      " [ 182  164 1001]\n",
      " [ 164 1001    3]\n",
      " [1001    3  299]\n",
      " [   3  299    4]\n",
      " [ 299    4  946]\n",
      " [   4  946   30]\n",
      " [ 946   30   72]\n",
      " [  30   72  710]\n",
      " [  72  710   41]]\n",
      "Response:  [1001    3  299    4  946   30   72  710   41 1001]\n"
     ]
    }
   ],
   "source": [
    "print(\"Data: \", X[:10])\n",
    "print(\"Response: \", y[:10])"
   ]
  },
  {
   "cell_type": "code",
   "execution_count": 11,
   "metadata": {
    "colab": {
     "base_uri": "https://localhost:8080/"
    },
    "id": "nztL12Fuliq6",
    "outputId": "e6156d27-328b-4ec1-bd15-29f00694d651"
   },
   "outputs": [
    {
     "data": {
      "text/plain": [
       "array([[0., 0., 0., ..., 0., 0., 0.],\n",
       "       [0., 0., 0., ..., 0., 0., 0.],\n",
       "       [0., 0., 0., ..., 0., 0., 0.],\n",
       "       [0., 0., 0., ..., 0., 0., 0.],\n",
       "       [0., 0., 0., ..., 0., 0., 0.]], dtype=float32)"
      ]
     },
     "execution_count": 11,
     "metadata": {},
     "output_type": "execute_result"
    }
   ],
   "source": [
    "y = to_categorical(y, num_classes=vocab_size)\n",
    "y[:5]"
   ]
  },
  {
   "cell_type": "markdown",
   "metadata": {
    "id": "hSmUO2dhoVb7"
   },
   "source": [
    "## **Creating the model**"
   ]
  },
  {
   "cell_type": "code",
   "execution_count": 12,
   "metadata": {
    "id": "5HpZU3ecltus"
   },
   "outputs": [],
   "source": [
    "model = Sequential()\n",
    "model.add(Embedding(vocab_size, 10, input_length=3))\n",
    "model.add(LSTM(1000, return_sequences=True))\n",
    "model.add(LSTM(1000))\n",
    "model.add(Dense(1000, activation=\"relu\"))\n",
    "model.add(Dense(vocab_size, activation=\"softmax\"))"
   ]
  },
  {
   "cell_type": "code",
   "execution_count": 13,
   "metadata": {
    "colab": {
     "base_uri": "https://localhost:8080/"
    },
    "id": "_zlhN4NsluBf",
    "outputId": "13e7da28-9d03-4da3-8f86-6c20d412d4db"
   },
   "outputs": [
    {
     "name": "stdout",
     "output_type": "stream",
     "text": [
      "Model: \"sequential\"\n",
      "_________________________________________________________________\n",
      " Layer (type)                Output Shape              Param #   \n",
      "=================================================================\n",
      " embedding (Embedding)       (None, 3, 10)             72500     \n",
      "                                                                 \n",
      " lstm (LSTM)                 (None, 3, 1000)           4044000   \n",
      "                                                                 \n",
      " lstm_1 (LSTM)               (None, 1000)              8004000   \n",
      "                                                                 \n",
      " dense (Dense)               (None, 1000)              1001000   \n",
      "                                                                 \n",
      " dense_1 (Dense)             (None, 7250)              7257250   \n",
      "                                                                 \n",
      "=================================================================\n",
      "Total params: 20,378,750\n",
      "Trainable params: 20,378,750\n",
      "Non-trainable params: 0\n",
      "_________________________________________________________________\n"
     ]
    }
   ],
   "source": [
    "model.summary()"
   ]
  },
  {
   "cell_type": "markdown",
   "metadata": {
    "id": "j2cqxx9RoeSN"
   },
   "source": [
    "## **Train the model**"
   ]
  },
  {
   "cell_type": "code",
   "execution_count": 15,
   "metadata": {
    "colab": {
     "base_uri": "https://localhost:8080/"
    },
    "id": "DVxgjBIrl7ZQ",
    "outputId": "1e7ca7e2-12cb-46c6-d8ac-e62d586fd3e7"
   },
   "outputs": [
    {
     "name": "stdout",
     "output_type": "stream",
     "text": [
      "Epoch 1/70\n",
      "2051/2051 [==============================] - ETA: 0s - loss: 6.2292\n",
      "Epoch 1: loss improved from inf to 6.22915, saving model to next_words.h5\n",
      "2051/2051 [==============================] - 49s 19ms/step - loss: 6.2292\n",
      "Epoch 2/70\n",
      "2048/2051 [============================>.] - ETA: 0s - loss: 5.6105\n",
      "Epoch 2: loss improved from 6.22915 to 5.61051, saving model to next_words.h5\n",
      "2051/2051 [==============================] - 31s 15ms/step - loss: 5.6105\n",
      "Epoch 3/70\n",
      "2050/2051 [============================>.] - ETA: 0s - loss: 5.2912\n",
      "Epoch 3: loss improved from 5.61051 to 5.29121, saving model to next_words.h5\n",
      "2051/2051 [==============================] - 31s 15ms/step - loss: 5.2912\n",
      "Epoch 4/70\n",
      "2051/2051 [==============================] - ETA: 0s - loss: 5.0573\n",
      "Epoch 4: loss improved from 5.29121 to 5.05734, saving model to next_words.h5\n",
      "2051/2051 [==============================] - 32s 15ms/step - loss: 5.0573\n",
      "Epoch 5/70\n",
      "2051/2051 [==============================] - ETA: 0s - loss: 4.8450\n",
      "Epoch 5: loss improved from 5.05734 to 4.84500, saving model to next_words.h5\n",
      "2051/2051 [==============================] - 31s 15ms/step - loss: 4.8450\n",
      "Epoch 6/70\n",
      "2048/2051 [============================>.] - ETA: 0s - loss: 4.6362\n",
      "Epoch 6: loss improved from 4.84500 to 4.63641, saving model to next_words.h5\n",
      "2051/2051 [==============================] - 31s 15ms/step - loss: 4.6364\n",
      "Epoch 7/70\n",
      "2051/2051 [==============================] - ETA: 0s - loss: 4.4281\n",
      "Epoch 7: loss improved from 4.63641 to 4.42813, saving model to next_words.h5\n",
      "2051/2051 [==============================] - 31s 15ms/step - loss: 4.4281\n",
      "Epoch 8/70\n",
      "2051/2051 [==============================] - ETA: 0s - loss: 4.2225\n",
      "Epoch 8: loss improved from 4.42813 to 4.22247, saving model to next_words.h5\n",
      "2051/2051 [==============================] - 32s 15ms/step - loss: 4.2225\n",
      "Epoch 9/70\n",
      "2051/2051 [==============================] - ETA: 0s - loss: 4.0128\n",
      "Epoch 9: loss improved from 4.22247 to 4.01277, saving model to next_words.h5\n",
      "2051/2051 [==============================] - 31s 15ms/step - loss: 4.0128\n",
      "Epoch 10/70\n",
      "2051/2051 [==============================] - ETA: 0s - loss: 3.8006\n",
      "Epoch 10: loss improved from 4.01277 to 3.80062, saving model to next_words.h5\n",
      "2051/2051 [==============================] - 31s 15ms/step - loss: 3.8006\n",
      "Epoch 11/70\n",
      "2051/2051 [==============================] - ETA: 0s - loss: 3.5833\n",
      "Epoch 11: loss improved from 3.80062 to 3.58331, saving model to next_words.h5\n",
      "2051/2051 [==============================] - 32s 15ms/step - loss: 3.5833\n",
      "Epoch 12/70\n",
      "2051/2051 [==============================] - ETA: 0s - loss: 3.3634\n",
      "Epoch 12: loss improved from 3.58331 to 3.36339, saving model to next_words.h5\n",
      "2051/2051 [==============================] - 31s 15ms/step - loss: 3.3634\n",
      "Epoch 13/70\n",
      "2050/2051 [============================>.] - ETA: 0s - loss: 3.1419\n",
      "Epoch 13: loss improved from 3.36339 to 3.14179, saving model to next_words.h5\n",
      "2051/2051 [==============================] - 31s 15ms/step - loss: 3.1418\n",
      "Epoch 14/70\n",
      "2051/2051 [==============================] - ETA: 0s - loss: 2.9141\n",
      "Epoch 14: loss improved from 3.14179 to 2.91413, saving model to next_words.h5\n",
      "2051/2051 [==============================] - 31s 15ms/step - loss: 2.9141\n",
      "Epoch 15/70\n",
      "2051/2051 [==============================] - ETA: 0s - loss: 2.6844\n",
      "Epoch 15: loss improved from 2.91413 to 2.68445, saving model to next_words.h5\n",
      "2051/2051 [==============================] - 32s 15ms/step - loss: 2.6844\n",
      "Epoch 16/70\n",
      "2048/2051 [============================>.] - ETA: 0s - loss: 2.4506\n",
      "Epoch 16: loss improved from 2.68445 to 2.45078, saving model to next_words.h5\n",
      "2051/2051 [==============================] - 33s 16ms/step - loss: 2.4508\n",
      "Epoch 17/70\n",
      "2048/2051 [============================>.] - ETA: 0s - loss: 2.2222\n",
      "Epoch 17: loss improved from 2.45078 to 2.22230, saving model to next_words.h5\n",
      "2051/2051 [==============================] - 32s 16ms/step - loss: 2.2223\n",
      "Epoch 18/70\n",
      "2051/2051 [==============================] - ETA: 0s - loss: 2.0054\n",
      "Epoch 18: loss improved from 2.22230 to 2.00540, saving model to next_words.h5\n",
      "2051/2051 [==============================] - 32s 16ms/step - loss: 2.0054\n",
      "Epoch 19/70\n",
      "2051/2051 [==============================] - ETA: 0s - loss: 1.7949\n",
      "Epoch 19: loss improved from 2.00540 to 1.79494, saving model to next_words.h5\n",
      "2051/2051 [==============================] - 33s 16ms/step - loss: 1.7949\n",
      "Epoch 20/70\n",
      "2051/2051 [==============================] - ETA: 0s - loss: 1.6062\n",
      "Epoch 20: loss improved from 1.79494 to 1.60620, saving model to next_words.h5\n",
      "2051/2051 [==============================] - 32s 16ms/step - loss: 1.6062\n",
      "Epoch 21/70\n",
      "2051/2051 [==============================] - ETA: 0s - loss: 1.4399\n",
      "Epoch 21: loss improved from 1.60620 to 1.43987, saving model to next_words.h5\n",
      "2051/2051 [==============================] - 33s 16ms/step - loss: 1.4399\n",
      "Epoch 22/70\n",
      "2050/2051 [============================>.] - ETA: 0s - loss: 1.2950\n",
      "Epoch 22: loss improved from 1.43987 to 1.29518, saving model to next_words.h5\n",
      "2051/2051 [==============================] - 32s 15ms/step - loss: 1.2952\n",
      "Epoch 23/70\n",
      "2049/2051 [============================>.] - ETA: 0s - loss: 1.1754\n",
      "Epoch 23: loss improved from 1.29518 to 1.17561, saving model to next_words.h5\n",
      "2051/2051 [==============================] - 32s 15ms/step - loss: 1.1756\n",
      "Epoch 24/70\n",
      "2051/2051 [==============================] - ETA: 0s - loss: 1.0719\n",
      "Epoch 24: loss improved from 1.17561 to 1.07186, saving model to next_words.h5\n",
      "2051/2051 [==============================] - 31s 15ms/step - loss: 1.0719\n",
      "Epoch 25/70\n",
      "2051/2051 [==============================] - ETA: 0s - loss: 0.9939\n",
      "Epoch 25: loss improved from 1.07186 to 0.99394, saving model to next_words.h5\n",
      "2051/2051 [==============================] - 31s 15ms/step - loss: 0.9939\n",
      "Epoch 26/70\n",
      "2050/2051 [============================>.] - ETA: 0s - loss: 0.9245\n",
      "Epoch 26: loss improved from 0.99394 to 0.92445, saving model to next_words.h5\n",
      "2051/2051 [==============================] - 31s 15ms/step - loss: 0.9244\n",
      "Epoch 27/70\n",
      "2051/2051 [==============================] - ETA: 0s - loss: 0.8705\n",
      "Epoch 27: loss improved from 0.92445 to 0.87045, saving model to next_words.h5\n",
      "2051/2051 [==============================] - 31s 15ms/step - loss: 0.8705\n",
      "Epoch 28/70\n",
      "2051/2051 [==============================] - ETA: 0s - loss: 0.8276\n",
      "Epoch 28: loss improved from 0.87045 to 0.82758, saving model to next_words.h5\n",
      "2051/2051 [==============================] - 31s 15ms/step - loss: 0.8276\n",
      "Epoch 29/70\n",
      "2051/2051 [==============================] - ETA: 0s - loss: 0.7890\n",
      "Epoch 29: loss improved from 0.82758 to 0.78895, saving model to next_words.h5\n",
      "2051/2051 [==============================] - 31s 15ms/step - loss: 0.7890\n",
      "Epoch 30/70\n",
      "2051/2051 [==============================] - ETA: 0s - loss: 0.7587\n",
      "Epoch 30: loss improved from 0.78895 to 0.75872, saving model to next_words.h5\n",
      "2051/2051 [==============================] - 31s 15ms/step - loss: 0.7587\n",
      "Epoch 31/70\n",
      "2050/2051 [============================>.] - ETA: 0s - loss: 0.7295\n",
      "Epoch 31: loss improved from 0.75872 to 0.72949, saving model to next_words.h5\n",
      "2051/2051 [==============================] - 31s 15ms/step - loss: 0.7295\n",
      "Epoch 32/70\n",
      "2051/2051 [==============================] - ETA: 0s - loss: 0.7081\n",
      "Epoch 32: loss improved from 0.72949 to 0.70809, saving model to next_words.h5\n",
      "2051/2051 [==============================] - 31s 15ms/step - loss: 0.7081\n",
      "Epoch 33/70\n",
      "2049/2051 [============================>.] - ETA: 0s - loss: 0.6865\n",
      "Epoch 33: loss improved from 0.70809 to 0.68664, saving model to next_words.h5\n",
      "2051/2051 [==============================] - 31s 15ms/step - loss: 0.6866\n",
      "Epoch 34/70\n",
      "2048/2051 [============================>.] - ETA: 0s - loss: 0.6696\n",
      "Epoch 34: loss improved from 0.68664 to 0.66965, saving model to next_words.h5\n",
      "2051/2051 [==============================] - 31s 15ms/step - loss: 0.6697\n",
      "Epoch 35/70\n",
      "2050/2051 [============================>.] - ETA: 0s - loss: 0.6523\n",
      "Epoch 35: loss improved from 0.66965 to 0.65225, saving model to next_words.h5\n",
      "2051/2051 [==============================] - 31s 15ms/step - loss: 0.6522\n",
      "Epoch 36/70\n",
      "2051/2051 [==============================] - ETA: 0s - loss: 0.6388\n",
      "Epoch 36: loss improved from 0.65225 to 0.63876, saving model to next_words.h5\n",
      "2051/2051 [==============================] - 31s 15ms/step - loss: 0.6388\n",
      "Epoch 37/70\n",
      "2048/2051 [============================>.] - ETA: 0s - loss: 0.6253\n",
      "Epoch 37: loss improved from 0.63876 to 0.62541, saving model to next_words.h5\n",
      "2051/2051 [==============================] - 31s 15ms/step - loss: 0.6254\n",
      "Epoch 38/70\n",
      "2049/2051 [============================>.] - ETA: 0s - loss: 0.6111\n",
      "Epoch 38: loss improved from 0.62541 to 0.61128, saving model to next_words.h5\n",
      "2051/2051 [==============================] - 31s 15ms/step - loss: 0.6113\n",
      "Epoch 39/70\n",
      "2050/2051 [============================>.] - ETA: 0s - loss: 0.5999\n",
      "Epoch 39: loss improved from 0.61128 to 0.59989, saving model to next_words.h5\n",
      "2051/2051 [==============================] - 31s 15ms/step - loss: 0.5999\n",
      "Epoch 40/70\n",
      "2051/2051 [==============================] - ETA: 0s - loss: 0.5911\n",
      "Epoch 40: loss improved from 0.59989 to 0.59108, saving model to next_words.h5\n",
      "2051/2051 [==============================] - 32s 15ms/step - loss: 0.5911\n",
      "Epoch 41/70\n",
      "2050/2051 [============================>.] - ETA: 0s - loss: 0.5822\n",
      "Epoch 41: loss improved from 0.59108 to 0.58229, saving model to next_words.h5\n",
      "2051/2051 [==============================] - 31s 15ms/step - loss: 0.5823\n",
      "Epoch 42/70\n",
      "2051/2051 [==============================] - ETA: 0s - loss: 0.5732\n",
      "Epoch 42: loss improved from 0.58229 to 0.57322, saving model to next_words.h5\n",
      "2051/2051 [==============================] - 32s 15ms/step - loss: 0.5732\n",
      "Epoch 43/70\n",
      "2051/2051 [==============================] - ETA: 0s - loss: 0.5633\n",
      "Epoch 43: loss improved from 0.57322 to 0.56333, saving model to next_words.h5\n",
      "2051/2051 [==============================] - 31s 15ms/step - loss: 0.5633\n",
      "Epoch 44/70\n",
      "2048/2051 [============================>.] - ETA: 0s - loss: 0.5546\n",
      "Epoch 44: loss improved from 0.56333 to 0.55486, saving model to next_words.h5\n",
      "2051/2051 [==============================] - 31s 15ms/step - loss: 0.5549\n",
      "Epoch 45/70\n",
      "2050/2051 [============================>.] - ETA: 0s - loss: 0.5526\n",
      "Epoch 45: loss improved from 0.55486 to 0.55264, saving model to next_words.h5\n",
      "2051/2051 [==============================] - 31s 15ms/step - loss: 0.5526\n",
      "Epoch 46/70\n",
      "2050/2051 [============================>.] - ETA: 0s - loss: 0.5444\n",
      "Epoch 46: loss improved from 0.55264 to 0.54447, saving model to next_words.h5\n",
      "2051/2051 [==============================] - 31s 15ms/step - loss: 0.5445\n",
      "Epoch 47/70\n",
      "2051/2051 [==============================] - ETA: 0s - loss: 0.5330\n",
      "Epoch 47: loss improved from 0.54447 to 0.53299, saving model to next_words.h5\n",
      "2051/2051 [==============================] - 31s 15ms/step - loss: 0.5330\n",
      "Epoch 48/70\n",
      "2050/2051 [============================>.] - ETA: 0s - loss: 0.5301\n",
      "Epoch 48: loss improved from 0.53299 to 0.53002, saving model to next_words.h5\n",
      "2051/2051 [==============================] - 32s 15ms/step - loss: 0.5300\n",
      "Epoch 49/70\n",
      "2048/2051 [============================>.] - ETA: 0s - loss: 0.5257\n",
      "Epoch 49: loss improved from 0.53002 to 0.52572, saving model to next_words.h5\n",
      "2051/2051 [==============================] - 31s 15ms/step - loss: 0.5257\n",
      "Epoch 50/70\n",
      "2051/2051 [==============================] - ETA: 0s - loss: 0.5156\n",
      "Epoch 50: loss improved from 0.52572 to 0.51559, saving model to next_words.h5\n",
      "2051/2051 [==============================] - 31s 15ms/step - loss: 0.5156\n",
      "Epoch 51/70\n",
      "2048/2051 [============================>.] - ETA: 0s - loss: 0.5127\n",
      "Epoch 51: loss improved from 0.51559 to 0.51282, saving model to next_words.h5\n",
      "2051/2051 [==============================] - 32s 15ms/step - loss: 0.5128\n",
      "Epoch 52/70\n",
      "2050/2051 [============================>.] - ETA: 0s - loss: 0.5089\n",
      "Epoch 52: loss improved from 0.51282 to 0.50895, saving model to next_words.h5\n",
      "2051/2051 [==============================] - 31s 15ms/step - loss: 0.5090\n",
      "Epoch 53/70\n",
      "2051/2051 [==============================] - ETA: 0s - loss: 0.5015\n",
      "Epoch 53: loss improved from 0.50895 to 0.50150, saving model to next_words.h5\n",
      "2051/2051 [==============================] - 31s 15ms/step - loss: 0.5015\n",
      "Epoch 54/70\n",
      "2048/2051 [============================>.] - ETA: 0s - loss: 0.4976\n",
      "Epoch 54: loss improved from 0.50150 to 0.49774, saving model to next_words.h5\n",
      "2051/2051 [==============================] - 32s 15ms/step - loss: 0.4977\n",
      "Epoch 55/70\n",
      "2048/2051 [============================>.] - ETA: 0s - loss: 0.4951\n",
      "Epoch 55: loss improved from 0.49774 to 0.49517, saving model to next_words.h5\n",
      "2051/2051 [==============================] - 31s 15ms/step - loss: 0.4952\n",
      "Epoch 56/70\n",
      "2051/2051 [==============================] - ETA: 0s - loss: 0.4909\n",
      "Epoch 56: loss improved from 0.49517 to 0.49094, saving model to next_words.h5\n",
      "2051/2051 [==============================] - 32s 15ms/step - loss: 0.4909\n",
      "Epoch 57/70\n",
      "2051/2051 [==============================] - ETA: 0s - loss: 0.4851\n",
      "Epoch 57: loss improved from 0.49094 to 0.48506, saving model to next_words.h5\n",
      "2051/2051 [==============================] - 31s 15ms/step - loss: 0.4851\n",
      "Epoch 58/70\n",
      "2051/2051 [==============================] - ETA: 0s - loss: 0.4837\n",
      "Epoch 58: loss improved from 0.48506 to 0.48373, saving model to next_words.h5\n",
      "2051/2051 [==============================] - 32s 15ms/step - loss: 0.4837\n",
      "Epoch 59/70\n",
      "2050/2051 [============================>.] - ETA: 0s - loss: 0.4796\n",
      "Epoch 59: loss improved from 0.48373 to 0.47957, saving model to next_words.h5\n",
      "2051/2051 [==============================] - 31s 15ms/step - loss: 0.4796\n",
      "Epoch 60/70\n",
      "2049/2051 [============================>.] - ETA: 0s - loss: 0.4756\n",
      "Epoch 60: loss improved from 0.47957 to 0.47559, saving model to next_words.h5\n",
      "2051/2051 [==============================] - 32s 15ms/step - loss: 0.4756\n",
      "Epoch 61/70\n",
      "2051/2051 [==============================] - ETA: 0s - loss: 0.4707\n",
      "Epoch 61: loss improved from 0.47559 to 0.47075, saving model to next_words.h5\n",
      "2051/2051 [==============================] - 31s 15ms/step - loss: 0.4707\n",
      "Epoch 62/70\n",
      "2050/2051 [============================>.] - ETA: 0s - loss: 0.4693\n",
      "Epoch 62: loss improved from 0.47075 to 0.46925, saving model to next_words.h5\n",
      "2051/2051 [==============================] - 31s 15ms/step - loss: 0.4693\n",
      "Epoch 63/70\n",
      "2050/2051 [============================>.] - ETA: 0s - loss: 0.4663\n",
      "Epoch 63: loss improved from 0.46925 to 0.46644, saving model to next_words.h5\n",
      "2051/2051 [==============================] - 31s 15ms/step - loss: 0.4664\n",
      "Epoch 64/70\n",
      "2051/2051 [==============================] - ETA: 0s - loss: 0.4636\n",
      "Epoch 64: loss improved from 0.46644 to 0.46365, saving model to next_words.h5\n",
      "2051/2051 [==============================] - 31s 15ms/step - loss: 0.4636\n",
      "Epoch 65/70\n",
      "2051/2051 [==============================] - ETA: 0s - loss: 0.4600\n",
      "Epoch 65: loss improved from 0.46365 to 0.45997, saving model to next_words.h5\n",
      "2051/2051 [==============================] - 32s 15ms/step - loss: 0.4600\n",
      "Epoch 66/70\n",
      "2048/2051 [============================>.] - ETA: 0s - loss: 0.4561\n",
      "Epoch 66: loss improved from 0.45997 to 0.45622, saving model to next_words.h5\n",
      "2051/2051 [==============================] - 31s 15ms/step - loss: 0.4562\n",
      "Epoch 67/70\n",
      "2048/2051 [============================>.] - ETA: 0s - loss: 0.4544\n",
      "Epoch 67: loss improved from 0.45622 to 0.45423, saving model to next_words.h5\n",
      "2051/2051 [==============================] - 32s 15ms/step - loss: 0.4542\n",
      "Epoch 68/70\n",
      "2048/2051 [============================>.] - ETA: 0s - loss: 0.4523\n",
      "Epoch 68: loss improved from 0.45423 to 0.45222, saving model to next_words.h5\n",
      "2051/2051 [==============================] - 31s 15ms/step - loss: 0.4522\n",
      "Epoch 69/70\n",
      "2051/2051 [==============================] - ETA: 0s - loss: 0.4518\n",
      "Epoch 69: loss improved from 0.45222 to 0.45176, saving model to next_words.h5\n",
      "2051/2051 [==============================] - 31s 15ms/step - loss: 0.4518\n",
      "Epoch 70/70\n",
      "2048/2051 [============================>.] - ETA: 0s - loss: 0.4489\n",
      "Epoch 70: loss improved from 0.45176 to 0.44901, saving model to next_words.h5\n",
      "2051/2051 [==============================] - 31s 15ms/step - loss: 0.4490\n"
     ]
    },
    {
     "data": {
      "text/plain": [
       "<keras.callbacks.History at 0x7fb69ceb1750>"
      ]
     },
     "execution_count": 15,
     "metadata": {},
     "output_type": "execute_result"
    }
   ],
   "source": [
    "from tensorflow.keras.callbacks import ModelCheckpoint\n",
    "\n",
    "model.fit(X, y, epochs=70, batch_size=64, callbacks=[checkpoint])"
   ]
  },
  {
   "cell_type": "markdown",
   "metadata": {
    "id": "Dax7rI9KohL7"
   },
   "source": [
    "## **Let's Predict**"
   ]
  },
  {
   "cell_type": "code",
   "execution_count": 16,
   "metadata": {
    "id": "-r9fSa26l7jx"
   },
   "outputs": [],
   "source": [
    "from tensorflow.keras.models import load_model\n",
    "import numpy as np\n",
    "import pickle\n",
    "\n",
    "# Load the model and tokenizer\n",
    "model = load_model('next_words.h5')\n",
    "tokenizer = pickle.load(open('token.pkl', 'rb'))\n",
    "\n",
    "def Predict_Next_Words(model, tokenizer, text):\n",
    "\n",
    "  sequence = tokenizer.texts_to_sequences([text])\n",
    "  sequence = np.array(sequence)\n",
    "  preds = np.argmax(model.predict(sequence))\n",
    "  predicted_word = \"\"\n",
    "  \n",
    "  for key, value in tokenizer.word_index.items():\n",
    "      if value == preds:\n",
    "          predicted_word = key\n",
    "          break\n",
    "  \n",
    "  print(predicted_word)\n",
    "  return predicted_word"
   ]
  },
  {
   "cell_type": "code",
   "execution_count": 18,
   "metadata": {
    "colab": {
     "base_uri": "https://localhost:8080/"
    },
    "id": "9LqdPRHQl7qI",
    "outputId": "9aae24a4-600b-45ee-c57c-56278885b10a"
   },
   "outputs": [
    {
     "name": "stdout",
     "output_type": "stream",
     "text": [
      "Enter your line: The Project Gutenberg\n",
      "['The', 'Project', 'Gutenberg']\n",
      "1/1 [==============================] - 1s 871ms/step\n",
      "literary\n",
      "Enter your line: The project gutenberg eBook of\n",
      "['gutenberg', 'eBook', 'of']\n",
      "1/1 [==============================] - 0s 19ms/step\n",
      "pride\n",
      "Enter your line: how can you abuse your own\n",
      "['abuse', 'your', 'own']\n",
      "1/1 [==============================] - 0s 23ms/step\n",
      "daughter\n",
      "Enter your line: He wa quite\n",
      "['He', 'wa', 'quite']\n",
      "1/1 [==============================] - 1s 875ms/step\n",
      "all\n",
      "Enter your line: he was quite\n",
      "['he', 'was', 'quite']\n",
      "1/1 [==============================] - 0s 26ms/step\n",
      "young\n",
      "Enter your line: He could not help seeing that you were about five times as\n",
      "['five', 'times', 'as']\n",
      "1/1 [==============================] - 0s 21ms/step\n",
      "pretty\n",
      "Enter your line: and her sister\n",
      "['and', 'her', 'sister']\n",
      "1/1 [==============================] - 0s 19ms/step\n",
      "just\n",
      "Enter your line: however, it may all come to\n",
      "['all', 'come', 'to']\n",
      "1/1 [==============================] - 0s 19ms/step\n",
      "nothing\n",
      "Enter your line: 0\n",
      "Execution completed.....\n"
     ]
    }
   ],
   "source": [
    "while(True):\n",
    "  text = input(\"Enter your line: \")\n",
    "  \n",
    "  if text == \"0\":\n",
    "      print(\"Execution completed.....\")\n",
    "      break\n",
    "  \n",
    "  else:\n",
    "      try:\n",
    "          text = text.split(\" \")\n",
    "          text = text[-3:]\n",
    "          print(text)\n",
    "        \n",
    "          Predict_Next_Words(model, tokenizer, text)\n",
    "          \n",
    "      except Exception as e:\n",
    "        print(\"Error occurred: \",e)\n",
    "        continue"
   ]
  }
 ],
 "metadata": {
  "accelerator": "GPU",
  "colab": {
   "authorship_tag": "ABX9TyPOmsgoh0a9ha+5tt/s3UXt",
   "include_colab_link": true,
   "mount_file_id": "1IGCGc3tuCbHcFgU_nlY1LcNrKi-w-FDL",
   "provenance": []
  },
  "gpuClass": "standard",
  "kernelspec": {
   "display_name": "Python 3 (ipykernel)",
   "language": "python",
   "name": "python3"
  },
  "language_info": {
   "codemirror_mode": {
    "name": "ipython",
    "version": 3
   },
   "file_extension": ".py",
   "mimetype": "text/x-python",
   "name": "python",
   "nbconvert_exporter": "python",
   "pygments_lexer": "ipython3",
   "version": "3.11.3"
  }
 },
 "nbformat": 4,
 "nbformat_minor": 1
}
